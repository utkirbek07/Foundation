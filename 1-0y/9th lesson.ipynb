{
 "cells": [
  {
   "cell_type": "markdown",
   "id": "74b82b87",
   "metadata": {},
   "source": [
    "kaggle yoki githubdan dataset topib for loop orqali toliq preprocessing qilish\n"
   ]
  },
  {
   "cell_type": "code",
   "execution_count": 11,
   "id": "5d3efdd0",
   "metadata": {},
   "outputs": [],
   "source": [
    "import pandas as pd\n",
    "from sklearn.preprocessing import MinMaxScaler, RobustScaler, StandardScaler, LabelEncoder\n",
    "encoder=LabelEncoder()\n",
    "minmax=MinMaxScaler()\n",
    "robust=RobustScaler()\n",
    "standard=StandardScaler()"
   ]
  },
  {
   "cell_type": "code",
   "execution_count": 3,
   "id": "d1cc4ce2",
   "metadata": {},
   "outputs": [],
   "source": [
    "df=pd.read_csv('Diamonds.csv')"
   ]
  },
  {
   "cell_type": "code",
   "execution_count": 4,
   "id": "33587181",
   "metadata": {},
   "outputs": [
    {
     "name": "stdout",
     "output_type": "stream",
     "text": [
      "<class 'pandas.core.frame.DataFrame'>\n",
      "RangeIndex: 53940 entries, 0 to 53939\n",
      "Data columns (total 10 columns):\n",
      " #   Column   Non-Null Count  Dtype  \n",
      "---  ------   --------------  -----  \n",
      " 0   carat    53921 non-null  float64\n",
      " 1   cut      53917 non-null  object \n",
      " 2   color    53917 non-null  object \n",
      " 3   clarity  53922 non-null  object \n",
      " 4   depth    53922 non-null  float64\n",
      " 5   table    53912 non-null  float64\n",
      " 6   price    53905 non-null  float64\n",
      " 7   x        53940 non-null  float64\n",
      " 8   y        53940 non-null  float64\n",
      " 9   z        53940 non-null  float64\n",
      "dtypes: float64(7), object(3)\n",
      "memory usage: 4.1+ MB\n"
     ]
    }
   ],
   "source": [
    "df.info()"
   ]
  },
  {
   "cell_type": "code",
   "execution_count": 6,
   "id": "993131ec",
   "metadata": {},
   "outputs": [
    {
     "name": "stderr",
     "output_type": "stream",
     "text": [
      "C:\\Users\\maxma\\AppData\\Local\\Temp\\ipykernel_35088\\3806529053.py:8: FutureWarning: A value is trying to be set on a copy of a DataFrame or Series through chained assignment using an inplace method.\n",
      "The behavior will change in pandas 3.0. This inplace method will never work because the intermediate object on which we are setting values always behaves as a copy.\n",
      "\n",
      "For example, when doing 'df[col].method(value, inplace=True)', try using 'df.method({col: value}, inplace=True)' or df[col] = df[col].method(value) instead, to perform the operation inplace on the original object.\n",
      "\n",
      "\n",
      "  df[col].fillna(df[col].mean(), inplace=True)\n",
      "C:\\Users\\maxma\\AppData\\Local\\Temp\\ipykernel_35088\\3806529053.py:6: FutureWarning: A value is trying to be set on a copy of a DataFrame or Series through chained assignment using an inplace method.\n",
      "The behavior will change in pandas 3.0. This inplace method will never work because the intermediate object on which we are setting values always behaves as a copy.\n",
      "\n",
      "For example, when doing 'df[col].method(value, inplace=True)', try using 'df.method({col: value}, inplace=True)' or df[col] = df[col].method(value) instead, to perform the operation inplace on the original object.\n",
      "\n",
      "\n",
      "  df[col].fillna(df[col].mode()[0], inplace=True)\n"
     ]
    }
   ],
   "source": [
    "#filling the missing dataset with for loop\n",
    "\n",
    "for col in df.columns:\n",
    "    if df[col].isnull().any():\n",
    "        if df[col].dtype=='object':\n",
    "            df[col].fillna(df[col].mode()[0], inplace=True)\n",
    "        else:\n",
    "            df[col].fillna(df[col].mean(), inplace=True)"
   ]
  },
  {
   "cell_type": "code",
   "execution_count": 7,
   "id": "bc022873",
   "metadata": {},
   "outputs": [
    {
     "data": {
      "text/plain": [
       "carat        274\n",
       "cut            5\n",
       "color          7\n",
       "clarity        8\n",
       "depth        185\n",
       "table        128\n",
       "price      11588\n",
       "x            554\n",
       "y            552\n",
       "z            375\n",
       "dtype: int64"
      ]
     },
     "execution_count": 7,
     "metadata": {},
     "output_type": "execute_result"
    }
   ],
   "source": [
    "df.nunique()"
   ]
  },
  {
   "cell_type": "code",
   "execution_count": 9,
   "id": "db4f1186",
   "metadata": {},
   "outputs": [],
   "source": [
    "#encoding the object values to numeric values using for loop\n",
    "for col in df.columns:\n",
    "    if df[col].dtype=='object':\n",
    "        if df[col].nunique()<=10:\n",
    "            dummies=pd.get_dummies(df[col], prefix=col, dtype=int)\n",
    "            df=pd.concat([df.drop(columns=col),dummies], axis=1)\n",
    "        else:\n",
    "            df[col]=encoder.fit_transform(df[col])"
   ]
  },
  {
   "cell_type": "code",
   "execution_count": 13,
   "id": "ec59cb72",
   "metadata": {},
   "outputs": [],
   "source": [
    "#scaling using for loop\n",
    "\n",
    "for col in df.columns:\n",
    "    if df[col].dtype!='object':\n",
    "        df[col]=minmax.fit_transform(df[[col]])"
   ]
  },
  {
   "cell_type": "code",
   "execution_count": 14,
   "id": "ee6e2169",
   "metadata": {},
   "outputs": [
    {
     "name": "stdout",
     "output_type": "stream",
     "text": [
      "<class 'pandas.core.frame.DataFrame'>\n",
      "RangeIndex: 53940 entries, 0 to 53939\n",
      "Data columns (total 27 columns):\n",
      " #   Column         Non-Null Count  Dtype  \n",
      "---  ------         --------------  -----  \n",
      " 0   carat          53940 non-null  float64\n",
      " 1   depth          53940 non-null  float64\n",
      " 2   table          53940 non-null  float64\n",
      " 3   price          53940 non-null  float64\n",
      " 4   x              53940 non-null  float64\n",
      " 5   y              53940 non-null  float64\n",
      " 6   z              53940 non-null  float64\n",
      " 7   cut_Fair       53940 non-null  float64\n",
      " 8   cut_Good       53940 non-null  float64\n",
      " 9   cut_Ideal      53940 non-null  float64\n",
      " 10  cut_Premium    53940 non-null  float64\n",
      " 11  cut_Very Good  53940 non-null  float64\n",
      " 12  color_D        53940 non-null  float64\n",
      " 13  color_E        53940 non-null  float64\n",
      " 14  color_F        53940 non-null  float64\n",
      " 15  color_G        53940 non-null  float64\n",
      " 16  color_H        53940 non-null  float64\n",
      " 17  color_I        53940 non-null  float64\n",
      " 18  color_J        53940 non-null  float64\n",
      " 19  clarity_I1     53940 non-null  float64\n",
      " 20  clarity_IF     53940 non-null  float64\n",
      " 21  clarity_SI1    53940 non-null  float64\n",
      " 22  clarity_SI2    53940 non-null  float64\n",
      " 23  clarity_VS1    53940 non-null  float64\n",
      " 24  clarity_VS2    53940 non-null  float64\n",
      " 25  clarity_VVS1   53940 non-null  float64\n",
      " 26  clarity_VVS2   53940 non-null  float64\n",
      "dtypes: float64(27)\n",
      "memory usage: 11.1 MB\n"
     ]
    }
   ],
   "source": [
    "df.info()"
   ]
  },
  {
   "cell_type": "code",
   "execution_count": 17,
   "id": "bb8ae8d5",
   "metadata": {},
   "outputs": [],
   "source": [
    "#scaling without using for loop\n",
    "num_col=df.select_dtypes(include=['float64','int64']).columns\n",
    "df[num_col]=robust.fit_transform(df[num_col])"
   ]
  },
  {
   "cell_type": "markdown",
   "id": "e1f87e4e",
   "metadata": {},
   "source": [
    "The End\n"
   ]
  },
  {
   "cell_type": "code",
   "execution_count": null,
   "id": "86bdb640",
   "metadata": {},
   "outputs": [],
   "source": [
    "#Nested if bo‘yicha 10 ta masala\n",
    "# Foydalanuvchidan son kiriting. Agar musbat bo‘lsa, uni juft yoki toqligini aniqlang.\n",
    "\n",
    "# Foydalanuvchidan yoshini so‘rang. Agar 18 yoki undan katta bo‘lsa, yana tekshirib 65 dan kichik bo‘lsa → \"Katta yoshli\", bo‘lmasa \"Qari\".\n",
    "\n",
    "# Uchta son kiriting. Ichma-ich if yordamida eng kattasini toping.\n",
    "\n",
    "# Bitta belgi kiriting. Agar u harf bo‘lsa, yana tekshirib unli yoki undosh ekanligini aniqlang.\n",
    "\n",
    "# Foydalanuvchidan imtihon bahosini kiriting. Agar baho ≥ 50 → \"O‘tdi\", bo‘lmasa \"Yi qildi\". Agar o‘tdi va baho ≥ 90 bo‘lsa → \"A'lo\".\n",
    "\n",
    "# Son kiriting. Agar son 2 ga bo‘linsa, yana tekshirib 3 ga ham bo‘linishini aniqlang.\n",
    "\n",
    "# Haroratni kiriting. Agar 0 dan katta bo‘lsa → \"Muzlashdan yuqori\". Agar 30 dan katta bo‘lsa → \"Issiq\". Agar 0 dan kichik bo‘lsa → \"Muzlash\" deb chiqaring.\n",
    "\n",
    "# Svetofor rangini kiriting (qizil, sariq, yashil). Agar yashil → \"Yur\", agar qizil → \"To‘xta\", agar sariq → \"Kut\".\n",
    "\n",
    "# Bir yilni kiriting. Agar yil 4 ga bo‘linsa va 100 ga bo‘linmasa yoki 400 ga bo‘linsa → \"Kabisa yili\", bo‘lmasa \"Oddiy yil\".\n",
    "\n",
    "# Ikki son kiriting. Agar birinchi > ikkinchi bo‘lsa → \"Birinchi katta\", agar teng bo‘lsa → \"Teng\", aks holda \"Ikkinchi katta\"."
   ]
  },
  {
   "cell_type": "code",
   "execution_count": 21,
   "id": "7b523ad2",
   "metadata": {},
   "outputs": [
    {
     "name": "stdout",
     "output_type": "stream",
     "text": [
      "toq\n"
     ]
    }
   ],
   "source": [
    "son = int(input('Sonni kiriting:'))\n",
    "if son > 0:\n",
    "    if son % 2 == 0:\n",
    "        print('juft')\n",
    "    else:\n",
    "        print('toq')\n",
    "else:\n",
    "    print('musbat son kiriting')"
   ]
  },
  {
   "cell_type": "code",
   "execution_count": 22,
   "id": "fe0c489b",
   "metadata": {},
   "outputs": [
    {
     "name": "stdout",
     "output_type": "stream",
     "text": [
      "Katta yoshli\n"
     ]
    }
   ],
   "source": [
    "yosh = int(input(\"Yoshingizni kiriting: \"))\n",
    "if yosh >= 18:\n",
    "    if yosh < 65:\n",
    "        print(\"Katta yoshli\")\n",
    "    else:\n",
    "        print(\"Qari\")\n",
    "else:\n",
    "    print(\"18 yoshdan kichik\")"
   ]
  },
  {
   "cell_type": "code",
   "execution_count": 24,
   "id": "a6463c66",
   "metadata": {},
   "outputs": [
    {
     "name": "stdout",
     "output_type": "stream",
     "text": [
      "94 eng katta son\n"
     ]
    }
   ],
   "source": [
    "son1=int(input('1-Sonni kiriting:'))\n",
    "son2=int(input('2-Sonni kiriting:'))\n",
    "son3=int(input('3-Sonni kiriting:'))\n",
    "if son1>son2:\n",
    "    if son1>son3:\n",
    "        print(f'{son1} eng katta son')\n",
    "    else:\n",
    "        print(f'{son3} eng katta son')\n",
    "else: \n",
    "    if son2>son3:\n",
    "        print(f'{son2} eng katta son')\n",
    "    else:\n",
    "        print(f'{son3} eng katta son')"
   ]
  },
  {
   "cell_type": "code",
   "execution_count": 25,
   "id": "97ffe1ec",
   "metadata": {},
   "outputs": [
    {
     "name": "stdout",
     "output_type": "stream",
     "text": [
      "belgini togri kiriting\n"
     ]
    }
   ],
   "source": [
    "belgi=input('belgi kiriting: \\n')\n",
    "if belgi.isalpha():\n",
    "    if belgi.lower() in 'aeoiu':\n",
    "        print ('unli harf belgisi')\n",
    "    else:\n",
    "        print('Undosh harf beligisi')\n",
    "else:\n",
    "    print('belgini togri kiriting')"
   ]
  },
  {
   "cell_type": "code",
   "execution_count": null,
   "id": "d07e997d",
   "metadata": {},
   "outputs": [],
   "source": [
    "baho = int(input(\"Imtihon bahosini kiriting: \"))\n",
    "if baho >= 50:\n",
    "    print(\"O‘tdi\")\n",
    "    if baho >= 90:\n",
    "        print(\"A'lo\")\n",
    "else:\n",
    "    print(\"Yi qildi\")"
   ]
  },
  {
   "cell_type": "code",
   "execution_count": null,
   "id": "1ae76838",
   "metadata": {},
   "outputs": [],
   "source": [
    "son = int(input(\"Son kiriting: \"))\n",
    "if son % 2 == 0:\n",
    "    print(\"Son 2 ga bo'linadi\")\n",
    "    if son % 3 == 0:\n",
    "        print(\"Son 3 ga ham bo'linadi\")\n",
    "    else:\n",
    "        print(\"Son 3 ga bo'linmaydi\")\n",
    "else:\n",
    "    print(\"Son 2 ga bo'linmaydi\")"
   ]
  },
  {
   "cell_type": "code",
   "execution_count": 26,
   "id": "448aa162",
   "metadata": {},
   "outputs": [
    {
     "name": "stdout",
     "output_type": "stream",
     "text": [
      "Issiq\n"
     ]
    }
   ],
   "source": [
    "harorat = int(input(\"Haroratni kiriting: \"))\n",
    "if harorat > 0:\n",
    "    if harorat > 30:\n",
    "        print(\"Issiq\")\n",
    "    else:\n",
    "        print(\"Muzlashdan yuqori\")\n",
    "else:\n",
    "    print(\"muzlash\")"
   ]
  },
  {
   "cell_type": "code",
   "execution_count": null,
   "id": "f6ae4ec1",
   "metadata": {},
   "outputs": [],
   "source": [
    "rang = input(\"Svetofor rangini kiriting (qizil, sariq, yashil): \").lower()\n",
    "if rang == \"yashil\":\n",
    "    print(\"Yur\")\n",
    "else:\n",
    "    if rang == \"qizil\":\n",
    "        print(\"To‘xta\")\n",
    "    elif rang == \"sariq\":\n",
    "        print(\"Kut\")\n",
    "    else:\n",
    "        print(\"Noto'g'ri rang kiritildi\")"
   ]
  },
  {
   "cell_type": "code",
   "execution_count": null,
   "id": "301a2865",
   "metadata": {},
   "outputs": [],
   "source": [
    "yil = int(input(\"Yilni kiriting: \"))\n",
    "if yil % 4 == 0:\n",
    "    if yil % 100 != 0 or yil % 400 == 0:\n",
    "        print(\"Kabisa yili\")\n",
    "    else:\n",
    "        print(\"Oddiy yil\")\n",
    "else:\n",
    "    print(\"Oddiy yil\")"
   ]
  },
  {
   "cell_type": "code",
   "execution_count": null,
   "id": "1fc3515b",
   "metadata": {},
   "outputs": [],
   "source": [
    "son1 = int(input(\"Birinchi sonni kiriting: \"))\n",
    "son2 = int(input(\"Ikkinchi sonni kiriting: \"))\n",
    "\n",
    "if son1 > son2:\n",
    "    print(\"Birinchi katta\")\n",
    "else:\n",
    "    if son1 == son2:\n",
    "        print(\"Teng\")\n",
    "    else:\n",
    "        print(\"Ikkinchi katta\")"
   ]
  },
  {
   "cell_type": "code",
   "execution_count": null,
   "id": "f2620480",
   "metadata": {},
   "outputs": [],
   "source": [
    "#List comprehension bo‘yicha 10 ta masala\n",
    "# 1 dan 10 gacha bo‘lgan sonlar ro‘yxatini tuzing.\n",
    "\n",
    "# 1 dan 10 gacha bo‘lgan sonlarning kvadratlari ro‘yxatini yarating.\n",
    "\n",
    "# 1 dan 20 gacha bo‘lgan juft sonlar ro‘yxatini tuzing.\n",
    "\n",
    "# 1 dan 10 gacha sonlar uchun \"Juft\" yoki \"Toq\" degan yozuvlardan iborat ro‘yxat tuzing (if else bilan).\n",
    "\n",
    "# 1 dan 20 gacha bo‘lgan sonlardan faqat 3 ga bo‘linadigan sonlar ro‘yxatini yarating.\n",
    "\n",
    "# 1 dan 10 gacha sonlar ro‘yxatini tuzing, agar son 2 ga bo‘linsa \"Ikki\" deb yozing, bo‘lmasa sonning o‘zini yozing.\n",
    "\n",
    "# Berilgan so‘zlar ro‘yxatidan faqat uzunligi 4 dan katta bo‘lgan so‘zlarni ajratib oling.\n",
    "\n",
    "# Berilgan so‘zlar ro‘yxatini har bir so‘zni katta harflar bilan yozilgan ko‘rinishga aylantiring.\n",
    "\n",
    "# 1 dan 30 gacha bo‘lgan sonlardan faqat 5 ga bo‘linadigan sonlarni tanlab ro‘yxat tuzing.\n",
    "\n",
    "# 1 dan 15 gacha sonlardan: agar son juft bo‘lsa → sonning kvadrati, agar toq bo‘lsa → sonning kubini ro‘yxatga yozing."
   ]
  },
  {
   "cell_type": "code",
   "execution_count": 29,
   "id": "fb0e9d5f",
   "metadata": {},
   "outputs": [
    {
     "name": "stdout",
     "output_type": "stream",
     "text": [
      "[1, 2, 3, 4, 5, 6, 7, 8, 9, 10]\n"
     ]
    }
   ],
   "source": [
    "lst = [i for i in range(1, 11)]\n",
    "print(lst)"
   ]
  },
  {
   "cell_type": "code",
   "execution_count": 32,
   "id": "280adb55",
   "metadata": {},
   "outputs": [
    {
     "name": "stdout",
     "output_type": "stream",
     "text": [
      "[1, 4, 9, 16, 25, 36, 49, 64, 81, 100]\n"
     ]
    }
   ],
   "source": [
    "# 1 dan 10 gacha bo‘lgan sonlarning kvadratlari ro‘yxatini yarating.\n",
    "lst = [i**2 for i in range(1, 11)]\n",
    "print(lst)"
   ]
  },
  {
   "cell_type": "code",
   "execution_count": 33,
   "id": "92d98a6c",
   "metadata": {},
   "outputs": [
    {
     "name": "stdout",
     "output_type": "stream",
     "text": [
      "[2, 4, 6, 8, 10, 12, 14, 16, 18, 20]\n"
     ]
    }
   ],
   "source": [
    "# 1 dan 20 gacha bo‘lgan juft sonlar ro‘yxatini tuzing.\n",
    "\n",
    "juft_sonlar = [i for i in range(1, 21) if i % 2 == 0]\n",
    "print(juft_sonlar)"
   ]
  },
  {
   "cell_type": "code",
   "execution_count": null,
   "id": "bac5a5c4",
   "metadata": {},
   "outputs": [],
   "source": [
    "# 1 dan 10 gacha sonlar uchun \"Juft\" yoki \"Toq\" degan yozuvlardan iborat ro‘yxat tuzing (if else bilan).\n",
    "juft_toq = [\"Juft\" if i % 2 == 0 else \"Toq\" for i in range(1, 11)]\n",
    "print(juft_toq)"
   ]
  },
  {
   "cell_type": "code",
   "execution_count": 35,
   "id": "b943845e",
   "metadata": {},
   "outputs": [
    {
     "name": "stdout",
     "output_type": "stream",
     "text": [
      "[3, 6, 9, 12, 15, 18]\n"
     ]
    }
   ],
   "source": [
    "# 1 dan 20 gacha bo‘lgan sonlardan faqat 3 ga bo‘linadigan sonlar ro‘yxatini yarating.\n",
    "lstt=[i for i in range (1,21) if i%3==0 ]\n",
    "print(lstt)"
   ]
  },
  {
   "cell_type": "code",
   "execution_count": null,
   "id": "c6e69eab",
   "metadata": {},
   "outputs": [],
   "source": [
    "# 1 dan 10 gacha sonlar ro‘yxatini tuzing, agar son 2 ga bo‘linsa \"Ikki\" deb yozing, bo‘lmasa sonning o‘zini yozing.\n",
    "['ikki' if i%2==0 else i for i in range(1,11) ]"
   ]
  },
  {
   "cell_type": "code",
   "execution_count": 38,
   "id": "ca672283",
   "metadata": {},
   "outputs": [
    {
     "name": "stdout",
     "output_type": "stream",
     "text": [
      "['olma', 'banan', 'shaftoli', 'gilos', 'ananas', 'uzum']\n"
     ]
    }
   ],
   "source": [
    "# Berilgan so‘zlar ro‘yxatidan faqat uzunligi 4 dan katta bo‘lgan so‘zlarni ajratib oling.\n",
    "soz = [\"olma\", \"banan\", \"shaftoli\", \"gilos\", \"ananas\", \"uzum\"]\n",
    "sozlar = [i for i in soz if len(soz) > 4]\n",
    "print(sozlar)"
   ]
  },
  {
   "cell_type": "code",
   "execution_count": null,
   "id": "445d8540",
   "metadata": {},
   "outputs": [],
   "source": [
    "# Berilgan so‘zlar ro‘yxatini har bir so‘zni katta harflar bilan yozilgan ko‘rinishga aylantiring.\n",
    "sozlar2 = [\"olma\", \"banan\", \"shaftoli\", \"gilos\", \"ananas\", \"uzum\"]\n",
    "katta_sozlar = [o.upper() for o in sozlar2]\n",
    "print(katta_sozlar)"
   ]
  },
  {
   "cell_type": "code",
   "execution_count": null,
   "id": "3d69b567",
   "metadata": {},
   "outputs": [],
   "source": [
    "# 1 dan 30 gacha bo‘lgan sonlardan faqat 5 ga bo‘linadigan sonlarni tanlab ro‘yxat tuzing.\n",
    "beshga_bolinadigan = [i for i in range(1, 31) if i % 5 == 0]\n",
    "print(beshga_bolinadigan)"
   ]
  },
  {
   "cell_type": "code",
   "execution_count": 39,
   "id": "148a33b5",
   "metadata": {},
   "outputs": [
    {
     "data": {
      "text/plain": [
       "[1, 4, 27, 16, 125, 36, 343, 64, 729, 100, 1331, 144, 2197, 196, 3375]"
      ]
     },
     "execution_count": 39,
     "metadata": {},
     "output_type": "execute_result"
    }
   ],
   "source": [
    "# 1 dan 15 gacha sonlardan: agar son juft bo‘lsa → sonning kvadrati, agar toq bo‘lsa → sonning kubini ro‘yxatga yozing.\n",
    "[i**2 if i%2==0 else i**3 for i in range (1,16)]\n"
   ]
  },
  {
   "cell_type": "code",
   "execution_count": null,
   "id": "ae8eb3ab",
   "metadata": {},
   "outputs": [],
   "source": []
  }
 ],
 "metadata": {
  "kernelspec": {
   "display_name": "Python 3",
   "language": "python",
   "name": "python3"
  },
  "language_info": {
   "codemirror_mode": {
    "name": "ipython",
    "version": 3
   },
   "file_extension": ".py",
   "mimetype": "text/x-python",
   "name": "python",
   "nbconvert_exporter": "python",
   "pygments_lexer": "ipython3",
   "version": "3.11.9"
  }
 },
 "nbformat": 4,
 "nbformat_minor": 5
}
