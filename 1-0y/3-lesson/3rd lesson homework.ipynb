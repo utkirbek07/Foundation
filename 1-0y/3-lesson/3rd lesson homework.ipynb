{
 "cells": [
  {
   "cell_type": "code",
   "execution_count": null,
   "id": "ac0917df",
   "metadata": {},
   "outputs": [],
   "source": [
    "#Vazifa\n",
    "# Beilgan sonni musnat  yoki manfiy ekanligini if yordamida aniqlang\n",
    "#Berilgan sonni juft yoki toq ekanligini aniqlang\n",
    "# Berigan so'zni boshi va oxirgi xarfini toping\n",
    "# Berigan so'zni boshidan 2 chi va oxiridan ikkinchi xarfni toping"
   ]
  },
  {
   "cell_type": "code",
   "execution_count": 6,
   "id": "f55cfb98",
   "metadata": {},
   "outputs": [
    {
     "name": "stdout",
     "output_type": "stream",
     "text": [
      "son musbat\n"
     ]
    }
   ],
   "source": [
    "son = int(input('Son kiriting: '))\n",
    "if son > 0:\n",
    "\tprint(\"son musbat\")\n",
    "elif son < 0:\n",
    "\tprint('son manfiy')\n",
    "else:\n",
    "\tprint(\"son 0ga teng\")"
   ]
  },
  {
   "cell_type": "code",
   "execution_count": 7,
   "id": "48387a29",
   "metadata": {},
   "outputs": [
    {
     "name": "stdout",
     "output_type": "stream",
     "text": [
      "son toq\n"
     ]
    }
   ],
   "source": [
    "son = int(input('Son kiriting: '))\n",
    "if son % 2 == 0:\n",
    "\tprint(\"son juft\")\n",
    "else:\n",
    "\tprint(\"son toq\")"
   ]
  },
  {
   "cell_type": "code",
   "execution_count": 9,
   "id": "e569a42b",
   "metadata": {},
   "outputs": [
    {
     "name": "stdout",
     "output_type": "stream",
     "text": [
      "q bu sozning birinchi harfi / i bu sozning oxirgi harfi\n"
     ]
    }
   ],
   "source": [
    "soz = str(input('Sozni kiriting: '))\n",
    "print(f\"{soz[0]} bu sozning birinchi harfi / {soz[-1]} bu sozning oxirgi harfi\")"
   ]
  },
  {
   "cell_type": "code",
   "execution_count": 10,
   "id": "996f3ce0",
   "metadata": {},
   "outputs": [
    {
     "name": "stdout",
     "output_type": "stream",
     "text": [
      "u bu sozning birinchi harfi / a bu sozning oxirgi harfi\n"
     ]
    }
   ],
   "source": [
    "soz = str(input('Sozni kiriting: '))\n",
    "print(f\"{soz[1]} bu sozning birinchi harfi / {soz[-2]} bu sozning oxirgi harfi\")"
   ]
  },
  {
   "cell_type": "code",
   "execution_count": null,
   "id": "305246a2",
   "metadata": {},
   "outputs": [],
   "source": []
  }
 ],
 "metadata": {
  "kernelspec": {
   "display_name": "Python 3",
   "language": "python",
   "name": "python3"
  },
  "language_info": {
   "codemirror_mode": {
    "name": "ipython",
    "version": 3
   },
   "file_extension": ".py",
   "mimetype": "text/x-python",
   "name": "python",
   "nbconvert_exporter": "python",
   "pygments_lexer": "ipython3",
   "version": "3.11.9"
  }
 },
 "nbformat": 4,
 "nbformat_minor": 5
}
