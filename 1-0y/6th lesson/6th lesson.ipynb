{
 "cells": [
  {
   "cell_type": "code",
   "execution_count": null,
   "id": "c4fe1f1a",
   "metadata": {},
   "outputs": [],
   "source": [
    "son = 10\n",
    "if son % 2 == 0:\n",
    "    print(\"yaxshi\")\n",
    "else:\n",
    "    print(\"yomon\")"
   ]
  },
  {
   "cell_type": "code",
   "execution_count": null,
   "id": "e151f80b",
   "metadata": {},
   "outputs": [],
   "source": [
    "son = -5\n",
    "if son > 0:\n",
    "    print(\"yaxshi\")\n",
    "else:\n",
    "    print(\"yomon\")"
   ]
  },
  {
   "cell_type": "code",
   "execution_count": null,
   "id": "cecc5bb6",
   "metadata": {},
   "outputs": [],
   "source": [
    "son = 15\n",
    "if son % 5 == 0 and son % 3 == 0:\n",
    "    print(\"yaxshi\")\n",
    "else:\n",
    "    print(\"yomon\")"
   ]
  },
  {
   "cell_type": "code",
   "execution_count": null,
   "id": "17bbbbb6",
   "metadata": {},
   "outputs": [],
   "source": [
    "soz = \"alfa\"\n",
    "if soz[0]=='a':\n",
    "    print(\"yaxshi\")\n",
    "else:\n",
    "    print(\"yomon\")"
   ]
  },
  {
   "cell_type": "code",
   "execution_count": null,
   "id": "d0a986ec",
   "metadata": {},
   "outputs": [],
   "source": [
    "soz = \"beta\"\n",
    "if soz[-1]=='a':\n",
    "    print(\"yaxshi\")\n",
    "else:\n",
    "    print(\"yomon\")"
   ]
  },
  {
   "cell_type": "code",
   "execution_count": null,
   "id": "341f1dc3",
   "metadata": {},
   "outputs": [],
   "source": [
    "soz = \"banana\"\n",
    "if soz[0]=='b' and soz[-1]=='a':\n",
    "    print(\"yaxshi\")\n",
    "else:\n",
    "    print(\"yomon\")"
   ]
  },
  {
   "cell_type": "code",
   "execution_count": null,
   "id": "ebb930b8",
   "metadata": {},
   "outputs": [],
   "source": [
    "number = int(input(\"Son kiriting: \"))\n",
    "if number > 0:\n",
    "    print(\"Berilgan son musbat.\")\n",
    "else:\n",
    "    print(\"Bu son musbat emas.\")"
   ]
  },
  {
   "cell_type": "code",
   "execution_count": null,
   "id": "ade8f65a",
   "metadata": {},
   "outputs": [],
   "source": [
    "number = int(input(\"Son kiriting: \"))\n",
    "if number < 0:\n",
    "    print(\"Berilgan son manfiy .\")\n",
    "else:\n",
    "    print(\"Bu son manfiy emas.\")"
   ]
  },
  {
   "cell_type": "code",
   "execution_count": null,
   "id": "0908ac5e",
   "metadata": {},
   "outputs": [],
   "source": [
    "number = int(input(\"Son kiriting: \"))\n",
    "if number % 2 == 0:\n",
    "    print(\"Berilgan son 2 ga bo'linadi.\")\n",
    "else:\n",
    "    print(\"Bu son 2 ga bo'linmaydi.\")"
   ]
  },
  {
   "cell_type": "markdown",
   "id": "e81e293a",
   "metadata": {},
   "source": [
    "ML ANSWERS\n"
   ]
  },
  {
   "cell_type": "code",
   "execution_count": null,
   "id": "9656238a",
   "metadata": {},
   "outputs": [],
   "source": [
    "df['column_name'].fillna(df['column_name'].mean(), inplace=True)"
   ]
  },
  {
   "cell_type": "code",
   "execution_count": null,
   "id": "e1bcd861",
   "metadata": {},
   "outputs": [],
   "source": [
    "df['column_name'].fillna(df['column_name'].mode()[0], inplace=True)"
   ]
  },
  {
   "cell_type": "code",
   "execution_count": null,
   "id": "0490f5c7",
   "metadata": {},
   "outputs": [],
   "source": [
    "df['column_name'].fillna(df['column_name'].median(), inplace=True)"
   ]
  },
  {
   "cell_type": "code",
   "execution_count": null,
   "id": "a65aa696",
   "metadata": {},
   "outputs": [],
   "source": [
    "df['column_name'].fillna(0, inplace=True)"
   ]
  },
  {
   "cell_type": "code",
   "execution_count": null,
   "id": "057fa82d",
   "metadata": {},
   "outputs": [],
   "source": [
    "df.drop('column_to_drop', axis=1, inplace=True)"
   ]
  }
 ],
 "metadata": {
  "kernelspec": {
   "display_name": "Python 3",
   "language": "python",
   "name": "python3"
  },
  "language_info": {
   "name": "python",
   "version": "3.13.7"
  }
 },
 "nbformat": 4,
 "nbformat_minor": 5
}
