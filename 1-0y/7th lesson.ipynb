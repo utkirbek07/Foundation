{
 "cells": [
  {
   "cell_type": "markdown",
   "id": "82f0d00f",
   "metadata": {},
   "source": [
    "Vazifa\n"
   ]
  },
  {
   "cell_type": "code",
   "execution_count": 1,
   "id": "dd209dfa",
   "metadata": {},
   "outputs": [],
   "source": [
    "# Ixtiyoriy listda berilgan sonlarni yigindisini toping\n",
    "# Ixtiyoriy listda berilgan sonlarni kopaytmasini toping\n",
    "# Ixtiyoriy listda berilgan just sonlarni yigindisini toping\n",
    "# Ixtiyoriy listda berilgan toq sonlarni yigindisini toping\n",
    "# Ixtiyoriy listda berilgan musbat va toq sonlarni yigindisini toping\n",
    "# Ixtiyoriy listda berilgan musbat lekin toq bolmagan sonlarni sonlarni yigindisini toping\n",
    "# Ixtiyoriy listda berilgan musbat va toq va 3 ga bolinadigan  sonlarni yigindisini toping\n",
    "# Ixtiyoriy listda berilgan manfiy va 2  xonalari  sonlarni yigindisini toping\n",
    "# Ixtiyoriy listda berilgan 5ga  karrali manfiy  sonlarni yigindisini toping\n",
    "# Ixtiyoriy listda berilgan 5ga  karrali manfiy  sonlarni kopaytmasini toping"
   ]
  },
  {
   "cell_type": "code",
   "execution_count": null,
   "id": "f1cc8c02",
   "metadata": {},
   "outputs": [
    {
     "name": "stdout",
     "output_type": "stream",
     "text": [
      "3381\n"
     ]
    }
   ],
   "source": [
    "# Ixtiyoriy listda berilgan sonlarni yigindisini toping\n",
    "total = 0\n",
    "for i in range(45, 94):\n",
    "    total += i\n",
    "print(total)"
   ]
  },
  {
   "cell_type": "code",
   "execution_count": null,
   "id": "f2bf991c",
   "metadata": {},
   "outputs": [
    {
     "name": "stdout",
     "output_type": "stream",
     "text": [
      "1571148408147207957604364290509540412301615627346491943915706462882451178337203966480496026534621519970600975098101410071568774594560000000000000000000000\n"
     ]
    }
   ],
   "source": [
    "# Ixtiyoriy listda berilgan sonlarni kopaytmasini toping\n",
    "total4 = 1\n",
    "for i in range(4, 99):\n",
    "    total *= i\n",
    "print(total)"
   ]
  },
  {
   "cell_type": "code",
   "execution_count": null,
   "id": "6722151c",
   "metadata": {},
   "outputs": [
    {
     "name": "stdout",
     "output_type": "stream",
     "text": [
      "42\n"
     ]
    }
   ],
   "source": [
    "# Ixtiyoriy listda berilgan juft sonlarni yigindisini toping\n",
    "#Ixtiyoriy listda berilgan musbat lekin toq bolmagan sonlarni sonlarni yigindisini toping\n",
    "total3=0\n",
    "for i in range(2,13,2):\n",
    "    total+=i\n",
    "print(total)"
   ]
  },
  {
   "cell_type": "code",
   "execution_count": null,
   "id": "1d66ec1d",
   "metadata": {},
   "outputs": [
    {
     "name": "stdout",
     "output_type": "stream",
     "text": [
      "441\n"
     ]
    }
   ],
   "source": [
    "# Ixtiyoriy listda berilgan toq sonlarni yigindisini toping\n",
    "# Ixtiyoriy listda berilgan musbat va toq sonlarni yigindisini toping\n",
    "total2=0\n",
    "for i in range(1,43,2):\n",
    "    total+=i\n",
    "print(total)"
   ]
  },
  {
   "cell_type": "code",
   "execution_count": 7,
   "id": "315fb456",
   "metadata": {},
   "outputs": [
    {
     "name": "stdout",
     "output_type": "stream",
     "text": [
      "818\n"
     ]
    }
   ],
   "source": [
    "# Ixtiyoriy listda berilgan musbat va toq va 3 ga bolinadigan  sonlarni yigindisini toping\n",
    "total1=0\n",
    "for i in range (11,49,3):\n",
    "    total+=i\n",
    "print(total)"
   ]
  },
  {
   "cell_type": "code",
   "execution_count": 8,
   "id": "7dd7802a",
   "metadata": {},
   "outputs": [
    {
     "name": "stdout",
     "output_type": "stream",
     "text": [
      "653\n"
     ]
    }
   ],
   "source": [
    "# Ixtiyoriy listda berilgan manfiy va 2  xonalari  sonlarni yigindisini toping\n",
    "total5=0\n",
    "for i in range(-20,-9):\n",
    "    total+=i\n",
    "print(total)"
   ]
  },
  {
   "cell_type": "code",
   "execution_count": 13,
   "id": "f2403299",
   "metadata": {},
   "outputs": [
    {
     "name": "stdout",
     "output_type": "stream",
     "text": [
      "-5175\n"
     ]
    }
   ],
   "source": [
    "# Ixtiyoriy listda berilgan 5ga  karrali manfiy  sonlarni yigindisini toping\n",
    "total = 0\n",
    "for i in range(-225, -4, 5):\n",
    "    total += i\n",
    "print(total)"
   ]
  },
  {
   "cell_type": "code",
   "execution_count": 15,
   "id": "ea925599",
   "metadata": {},
   "outputs": [
    {
     "name": "stdout",
     "output_type": "stream",
     "text": [
      "679973600571657894772460858210125224243164062500000000000000000000000000000000000000000\n"
     ]
    }
   ],
   "source": [
    "# Ixtiyoriy listda berilgan 5ga  karrali manfiy  sonlarni kopaytmasini toping\n",
    "total = 1\n",
    "for i in range(-225, -9, 5):\n",
    "    total *= i\n",
    "print(total)"
   ]
  },
  {
   "cell_type": "code",
   "execution_count": null,
   "id": "2a61f1fb",
   "metadata": {},
   "outputs": [],
   "source": []
  }
 ],
 "metadata": {
  "kernelspec": {
   "display_name": "Python 3",
   "language": "python",
   "name": "python3"
  },
  "language_info": {
   "codemirror_mode": {
    "name": "ipython",
    "version": 3
   },
   "file_extension": ".py",
   "mimetype": "text/x-python",
   "name": "python",
   "nbconvert_exporter": "python",
   "pygments_lexer": "ipython3",
   "version": "3.11.9"
  }
 },
 "nbformat": 4,
 "nbformat_minor": 5
}
